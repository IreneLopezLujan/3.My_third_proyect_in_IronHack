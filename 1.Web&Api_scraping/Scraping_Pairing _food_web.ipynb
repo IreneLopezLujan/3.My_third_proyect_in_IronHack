{
 "cells": [
  {
   "cell_type": "code",
   "execution_count": 3,
   "metadata": {},
   "outputs": [
    {
     "data": {
      "text/plain": [
       "<td valign=\"top\"><!--<SPAN CLASS=\"menu\"> Pairing Food & Wine</SPAN><BR><BR><BR>--><div style=\"text-align: justify;\"><span style=\"font-size: 18pt; font-weight: bold;\"><span style=\"color: rgb(75, 0, 130);\">Seven Tips For Pairing Food &amp; Wine</span></span></div><div style=\"text-align: justify;\"><span style=\"font-weight: bold;\"><br/></span></div><div style=\"text-align: justify;\"><img align=\"right\" alt=\"\" border=\"0px\" src=\"/pdf/pairingfoodwinesquare.jpg\" style=\"margin: 5px 5px 5px 10px;\"/><span style=\"font-size: 14pt;\"><span style=\"font-weight: bold; font-size: 14pt;\">Wine and food pairing is a balancing act, an art rather than an exact science.</span> You want to balance flavors, weight and intensity. A delicate dish should be matched with a subtle wine and a hearty meal with a sturdier wine. Wines can thus be chosen to complement the meal. For example, the apple and apricot flavors of a Riesling are an ideal complement for a pork roast (a dish often served with apple sauce or stuffed with dried apricots, prunes and other fruits). That said, some dishes taste better if the wine contrasts with it. The crisp, clean flavors of many white wines will match perfectly with a rich, creamy dish and the lemony flavors of a Pinot Grigio are ideal with fried fish. In these instances, the wine cleanses your palate between bites, refreshing you and preparing you for the full flavor of your next bite.</span></div><div style=\"text-align: justify;\"><span style=\"font-weight: bold;\"><span style=\"font-size: 14pt;\"><br/></span></span></div><div style=\"text-align: justify;\"><span style=\"font-size: 14pt;\"><span style=\"font-weight: bold; font-size: 14pt;\">Match the flavors of the wine with those traditionally paired with a food item.</span> For example, Pinot Noir often tastes of cranberries and cherries. It is therefore a great match for turkey or duck, both of which are traditionally served with cranberries or cherries. The citrus flavors of Sauvignon Blanc go well with fish and the peppery scents typical of a Syrah or Grenache pair well with most red meat. Keep in mind these rules of thumb from the Oxford Companion to Wine: 1) sourness and saltiness in food suppress apparent bitterness in wine; 2) astringency in wine is suppressed by foods that are acidic, salty or fatty and accentuated by food that is sweet or spicy; 3) salty foods often make sweet wines taste sweeter; and 4) bitter foods often make wine seem more bitter.</span></div><div style=\"text-align: justify;\"><span style=\"font-size: 14pt;\"><br/></span></div><div style=\"text-align: justify;\"><span style=\"font-size: 14pt;\"><span style=\"font-weight: bold; font-size: 14pt;\">Europe's regional foods pair well with wine from the same region. </span>There is a natural, organic relationship between the food traditions of a particular region and the beverages drunk there. Thus, the bean, duck, and sausage cassoulets of South-West France go very well with wines from that region. Cahors or Madiran work best. The  coq au vin made in France's Burgundy region is well matched with red Burgundies (which are always made with the Pinot Noir grape).  The simple roasted or grilled meat dishes so often served in Spain are traditionally paired with the classic, oaky, dry reds of Rioja.</span></div><div style=\"text-align: justify;\"><span style=\"font-size: 14pt;\"><br/></span></div><div style=\"text-align: justify;\"><span style=\"font-size: 14pt;\"><span style=\"font-weight: bold; font-size: 14pt;\">Tomatoes are acidic and therefore tough on wine.</span> You need a wine with acidity to harmonize with the tomatoes. For fresh tomatoes, serve a Sauvignon Blanc or Southern French white. If you're serving a tomato sauce, try serving a Barbera or a red wine from Southern Italy, such as a Salice Salentino. For sun-dried tomatoes, the intensity of flavor calls for an intense wine, a sweeter Riesling really works.</span></div><div style=\"text-align: justify;\"><span style=\"font-weight: bold;\"><span style=\"font-size: 14pt;\"><br/></span></span></div><div style=\"text-align: justify;\"><span style=\"font-size: 14pt;\"><span style=\"font-weight: bold; font-size: 14pt;\">Some things are death to wine</span>. Vinaigrettes are very tough and if you must serve one, prepare it with aged balsamic vinegar that has greater inherent sweetness (or with lemon juice instead of vinegar). Artichokes, asparagus and spinach can make a wine taste bitter and metallic unless you serve a highly acidic wine, perhaps a Loire Valley Sauvignon Blanc or Muscadet. Ginger is also difficult, but if a recipe calls for it, serve a Gewürztraminer. Hot and spicy dishes like Indian, Thai or Mexican can overwhelm a wine because the chilies numb the palate. Hot food requires a cool drink, and so a full-bodied white will work or a soft red, such as a Beaujolais. For the hottest dishes, serve Champagne or beer.</span></div><div style=\"text-align: justify;\"><span style=\"font-size: 14pt;\"><br/></span></div><div style=\"text-align: justify;\"><span style=\"font-size: 14pt;\"><span style=\"font-weight: bold; font-size: 14pt;\">Wine and cheese make a wonderful combination, especially if you are serving a wine that originates from the same region as the cheese.</span> An aged Asiago from Italy will be great with a Chianti, Brunello, or Barbaresco. However, such pairings are not always possible, so three rules of thumb apply. 1) Dry reds suffer with many cheeses, dry whites often do better and sweet whites are almost without exception the best of all. 2) Soft, creamy cheese with a washed rind (like Brie or Camembert) will bring out the tannins in a red wine and so you must choose a wine with softer tannins, such as a Beaujolais or North American Pinot Noir. 3) Dry red wines that have ample tannins such as Cabernet Sauvignon, Merlot, and Bordeaux are gloriously matched with hard, aged cheeses such as cheddar or Manchego. And, of course, there are simply matches made in heaven that need to be experienced! Try a bottle of Port with Stilton, Sauternes with Roquefort or Sancerre with goat's cheese. You'll be glad you did.</span></div><div style=\"text-align: justify;\"><span style=\"font-size: 14pt;\"><br/></span></div><div style=\"text-align: justify;\"><span style=\"font-size: 14pt;\"><span style=\"font-weight: bold; font-size: 14pt;\">Dessert wines should be sweeter than the dessert with which they are served.</span> If the dessert is sweeter than the wine, the wine will taste thin and tart. For many desserts, choose a full-bodied, sweet wine such as a Sauternes, Muscat or late-harvest Chenin Blanc based wine. Chocolate can be difficult to match because chocolate desserts are often very sweet and they coat the inside of your mouth. Finding a wine sweeter than the chocolate can be hard, but young ruby ports and Hungarian Tokay are usually a good match.</span></div><div style=\"text-align: justify;\"><span style=\"font-style: italic;\"><span style=\"font-size: 14pt;\"><br/></span></span></div><div><div style=\"text-align: justify;\"><span style=\"font-style: italic;\"><span style=\"font-size: 14pt;\">What's The Right Wine To Use...?</span></span></div><div style=\"text-align: justify;\"><span style=\"font-style: italic;\"><span style=\"font-size: 14pt;\"><br/></span></span></div></div><div><div style=\"text-align: justify;\"><span style=\"font-weight: bold;\"><span style=\"font-size: 14pt;\">Beef</span></span></div><div style=\"text-align: justify;\"><span style=\"font-weight: bold;\"><span style=\"font-size: 14pt;\"><br/></span></span></div></div><div style=\"text-align: justify;\"><span style=\"font-size: 14pt;\">Cabernet Sauvignon, Merlot, Bordeaux, red Zinfandel, Rioja, Ribera del Duero, Châteauneuf-du-Pâpe, Hermitage, Côte-Rôtie, Australian Shiraz, Super Tuscan, Barbaresco or Barolo</span></div><div style=\"text-align: justify;\"><span style=\"font-size: 14pt;\"><br/></span></div><div><div style=\"text-align: justify;\"><span style=\"font-weight: bold;\"><span style=\"font-size: 14pt;\">Lamb</span></span></div><div style=\"text-align: justify;\"><span style=\"font-weight: bold;\"><span style=\"font-size: 14pt;\"><br/></span></span></div></div><div style=\"text-align: justify;\"><span style=\"font-size: 14pt;\">Bordeaux (especially Médoc), Rioja, Ribera del Duero, Châteauneuf-du-Pâpe, Barbaresco or Barolo Pork </span></div><div style=\"text-align: justify;\"><span style=\"font-size: 14pt;\">Riesling, Cru Beaujolais, Rioja, Côtes du Rhône or New World Chardonnay</span></div><div style=\"text-align: justify;\"><span style=\"font-size: 14pt;\"><br/></span></div><div><div style=\"text-align: justify;\"><span style=\"font-weight: bold;\"><span style=\"font-size: 14pt;\">BBQ</span></span></div><div style=\"text-align: justify;\"><span style=\"font-weight: bold;\"><span style=\"font-size: 14pt;\"><br/></span></span></div></div><div style=\"text-align: justify;\"><span style=\"font-size: 14pt;\">Côtes du Rhône, Châteauneuf-du-Pâpe, Shiraz, Petite Syrah or red Zinfandel</span></div><div style=\"text-align: justify;\"><span style=\"font-size: 14pt;\"><br/></span></div><div><div style=\"text-align: justify;\"><span style=\"font-weight: bold;\"><span style=\"font-size: 14pt;\">Hamburger or Sausage</span></span></div><div style=\"text-align: justify;\"><span style=\"font-weight: bold;\"><span style=\"font-size: 14pt;\"><br/></span></span></div></div><div style=\"text-align: justify;\"><span style=\"font-size: 14pt;\">Côtes du Rhône, Châteauneuf-du-Pâpe, Shiraz, Petite Syrah or red Zinfandel</span></div><div style=\"text-align: justify;\"><span style=\"font-size: 14pt;\"><br/></span></div><div><div style=\"text-align: justify;\"><span style=\"font-weight: bold;\"><span style=\"font-size: 14pt;\">Chicken</span></span></div><div style=\"text-align: justify;\"><span style=\"font-weight: bold;\"><span style=\"font-size: 14pt;\"><br/></span></span></div></div><div style=\"text-align: justify;\"><span style=\"font-size: 14pt;\">California or Australian Chardonnay, Riesling, dry Vouvray, white Burgundy, red Burgundy, Gigondas, Côtes du Rhône, Cabernet Sauvignon, Cabernet Franc, Merlot, red Zinfandel or Valpolicella</span></div><div style=\"text-align: justify;\"><span style=\"font-size: 14pt;\"><br/></span></div><div><div style=\"text-align: justify;\"><span style=\"font-weight: bold;\"><span style=\"font-size: 14pt;\">Feathered Game (guinea fowl, pheasant, squab, etc.)</span></span></div><div style=\"text-align: justify;\"><span style=\"font-weight: bold;\"><span style=\"font-size: 14pt;\"><br/></span></span></div></div><div style=\"text-align: justify;\"><span style=\"font-size: 14pt;\">Red Burgundy, Pinot Noir or Rioja</span></div><div style=\"text-align: justify;\"><span style=\"font-size: 14pt;\"><br/></span></div><div><div style=\"text-align: justify;\"><span style=\"font-weight: bold;\"><span style=\"font-size: 14pt;\">Pasta</span></span></div><div style=\"text-align: justify;\"><span style=\"font-weight: bold;\"><span style=\"font-size: 14pt;\"><br/></span></span></div></div><div style=\"text-align: justify;\"><span style=\"font-size: 14pt;\">Pinot Grigio, Vernaccia, Barbera, Dolcetto, Chianti, Pinot Noir or Cabernet Franc</span></div><div style=\"text-align: justify;\"><span style=\"font-size: 14pt;\"><br/></span></div><div><div style=\"text-align: justify;\"><span style=\"font-weight: bold;\"><span style=\"font-size: 14pt;\">Pasta with Tomato Sauce</span></span></div><div style=\"text-align: justify;\"><span style=\"font-weight: bold;\"><span style=\"font-size: 14pt;\"><br/></span></span></div></div><div style=\"text-align: justify;\"><span style=\"font-size: 14pt;\">Chianti, Morellino di Scansano, Salice Salentino or Montepulciano d'Arbruzzo</span></div><div style=\"text-align: justify;\"><span style=\"font-size: 14pt;\"><br/></span></div><div><div style=\"text-align: justify;\"><span style=\"font-weight: bold;\"><span style=\"font-size: 14pt;\">Fresh Water or Lighter Fish (trout, sole, etc.)</span></span></div><div style=\"text-align: justify;\"><span style=\"font-weight: bold;\"><span style=\"font-size: 14pt;\"><br/></span></span></div></div><div style=\"text-align: justify;\"><span style=\"font-size: 14pt;\">White Bordeaux, Meursault or other good white Burgundy</span></div><div style=\"text-align: justify;\"><span style=\"font-size: 14pt;\"><br/></span></div><div style=\"text-align: justify;\"><span style=\"font-size: 14pt;\">Oily or Heavier Fish (mackerel, swordfish, tuna, etc.)</span></div><div style=\"text-align: justify;\"><span style=\"font-size: 14pt;\">Rich Australian Chardonnay or Semillon, Pinot Gris, Gewürztraminer, Pinot Noir or Beaujolais</span></div><div style=\"text-align: justify;\"><span style=\"font-size: 14pt;\"><br/></span></div><div><div style=\"text-align: justify;\"><span style=\"font-weight: bold;\"><span style=\"font-size: 14pt;\">Shellfish (clams, mussels, scallops, oysters, etc.)</span></span></div><span style=\"font-weight: bold;\"><div style=\"text-align: justify;\"><span style=\"font-size: 14pt;\"><br/></span></div></span></div><div style=\"text-align: justify;\"><span style=\"font-size: 14pt;\">Muscadet, Vinho Verde, Verdicchio, Sauvignon Blanc, Albarinho, Chablis or Champagne</span></div><div style=\"text-align: justify;\"><span style=\"font-size: 14pt;\"><br/></span></div><div><div style=\"text-align: justify;\"><span style=\"font-weight: bold;\"><span style=\"font-size: 14pt;\">Lobster</span></span></div><div style=\"text-align: justify;\"><span style=\"font-weight: bold;\"><span style=\"font-size: 14pt;\"><br/></span></span></div></div><div style=\"text-align: justify;\"><span style=\"font-size: 14pt;\">Semillon, white Burgundy, Champagne or Sauternes</span></div><div style=\"text-align: justify;\"><span style=\"font-size: 14pt;\"><br/></span></div><div><div style=\"text-align: justify;\"><span style=\"font-weight: bold;\"><span style=\"font-size: 14pt;\">Salmon</span></span></div><div style=\"text-align: justify;\"><span style=\"font-weight: bold;\"><span style=\"font-size: 14pt;\"><br/></span></span></div></div><div style=\"text-align: justify;\"><span style=\"font-size: 14pt;\">Rich Chardonnay, white Burgundy, Pinot Gris, Viognier, Beaujolais, Chinon, California or Oregon Cabernet Franc or Pinot Noir</span></div><div style=\"text-align: justify;\"><span style=\"font-size: 14pt;\"><br/></span></div><div><div style=\"text-align: justify;\"><span style=\"font-weight: bold;\"><span style=\"font-size: 14pt;\">Smoked Salmon or other Smoked Fish</span></span></div><div style=\"text-align: justify;\"><span style=\"font-weight: bold;\"><span style=\"font-size: 14pt;\"><br/></span></span></div></div><div style=\"text-align: justify;\"><span style=\"font-size: 14pt;\">Champagne or Riesling</span></div><div style=\"text-align: justify;\"><span style=\"font-size: 14pt;\"><br/></span></div><div><div style=\"text-align: justify;\"><span style=\"font-weight: bold;\"><span style=\"font-size: 14pt;\">Soft, Creamy Cheeses with washed rind (brie, camembert, etc.)</span></span></div><div style=\"text-align: justify;\"><span style=\"font-weight: bold;\"><span style=\"font-size: 14pt;\"><br/></span></span></div></div><div style=\"text-align: justify;\"><span style=\"font-size: 14pt;\">Beaujolais, North American Pinot Noir or well-aged St.-Emilion</span></div><div style=\"text-align: justify;\"><span style=\"font-size: 14pt;\"><br/></span></div><div><div style=\"text-align: justify;\"><span style=\"font-weight: bold;\"><span style=\"font-size: 14pt;\">Hard, Aged Cheeses (cheddar, aged gouda, manchego, etc.)</span></span></div><div style=\"text-align: justify;\"><span style=\"font-weight: bold;\"><span style=\"font-size: 14pt;\"><br/></span></span></div></div><div style=\"text-align: justify;\"><span style=\"font-size: 14pt;\">Cabernet Sauvignon, red Zinfandel, Merlot, Rioja, ruby Port, Fino or Manzanilla Sherry</span></div><div style=\"text-align: justify;\"><span style=\"font-size: 14pt;\"><br/></span></div><div><div style=\"text-align: justify;\"><span style=\"font-weight: bold;\"><span style=\"font-size: 14pt;\">Goat's Cheese</span></span></div><div style=\"text-align: justify;\"><span style=\"font-weight: bold;\"><span style=\"font-size: 14pt;\"><br/></span></span></div></div><div style=\"text-align: justify;\"><span style=\"font-size: 14pt;\">Sauvignon Blanc, Sancerre, Vouvray or white Bordeaux<br/><br/></span><br/></div>\n",
       "<!--<P ALIGN=\"right\"><A HREF=\"main.asp?request=ARTICLES&artCateg=Default&\" CLASS=\"reglink\">View all Articles</A></P>-->\n",
       "</td>"
      ]
     },
     "execution_count": 3,
     "metadata": {},
     "output_type": "execute_result"
    }
   ],
   "source": [
    "import requests\n",
    "from bs4 import BeautifulSoup \n",
    "import pandas as pd\n",
    "from pandas import Series\n",
    "import numpy as np\n",
    "import os\n",
    "os.chdir(\"../Data\")\n",
    "\n",
    "# usert agent para evitar baneaos\n",
    "headers = {\n",
    "    \"user-agent\": \"Mozilla/5.0 (X11; Linux x86_64) AppleWebKit/537.36 (KHTML, like Gecko) Ubuntu Chromium/71.0.3578.80 Chrome/71.0.3578.80 Safari/537.36\"\n",
    "}\n",
    "\n",
    "# La url principal\n",
    "url = 'https://www.tableandvine.com/main.asp?request=ARTICLES&article=14'\n",
    "# peticion request y parseo de beautifulsoup\n",
    "res = requests.get(url, headers=headers)\n",
    "soup = BeautifulSoup(res.text, 'html.parser')\n",
    "\n",
    "#seleccion del trozo de html a grandes rasgos que nos interesa \n",
    "tds=soup.find_all(\"td\")\n",
    "body=tds[17]\n",
    "body"
   ]
  },
  {
   "cell_type": "code",
   "execution_count": 4,
   "metadata": {},
   "outputs": [
    {
     "data": {
      "text/plain": [
       "['Beef',\n",
       " 'Lamb',\n",
       " 'BBQ',\n",
       " 'Hamburger or Sausage',\n",
       " 'Chicken',\n",
       " 'Feathered Game (guinea fowl, pheasant, squab, etc.)',\n",
       " 'Pasta',\n",
       " 'Pasta with Tomato Sauce',\n",
       " 'Fresh Water or Lighter Fish (trout, sole, etc.)',\n",
       " 'Shellfish (clams, mussels, scallops, oysters, etc.)',\n",
       " 'Lobster',\n",
       " 'Salmon',\n",
       " 'Smoked Salmon or other Smoked Fish',\n",
       " 'Soft, Creamy Cheeses with washed rind (brie, camembert, etc.)',\n",
       " 'Hard, Aged Cheeses (cheddar, aged gouda, manchego, etc.)',\n",
       " \"Goat's Cheese\"]"
      ]
     },
     "execution_count": 4,
     "metadata": {},
     "output_type": "execute_result"
    }
   ],
   "source": [
    "#Vamos a buscar los titulos de los textos que coindiden con las comidas que casan con vinos\n",
    "all_results = body.select('div> div>span')[1:]\n",
    "food= [x.text.strip() for x in all_results]\n",
    "filter_food = list(filter(lambda x: x !=\"\", food))\n",
    "filter_food"
   ]
  },
  {
   "cell_type": "code",
   "execution_count": 5,
   "metadata": {},
   "outputs": [
    {
     "data": {
      "text/plain": [
       "['Beef',\n",
       " 'Cabernet Sauvignon, Merlot, Bordeaux, red Zinfandel, Rioja, Ribera del Duero, Châteauneuf-du-Pâpe, Hermitage, Côte-Rôtie, Australian Shiraz, Super Tuscan, Barbaresco or Barolo',\n",
       " 'Lamb',\n",
       " 'Bordeaux (especially Médoc), Rioja, Ribera del Duero, Châteauneuf-du-Pâpe, Barbaresco or Barolo Pork',\n",
       " 'Riesling, Cru Beaujolais, Rioja, Côtes du Rhône or New World Chardonnay',\n",
       " 'BBQ',\n",
       " 'Côtes du Rhône, Châteauneuf-du-Pâpe, Shiraz, Petite Syrah or red Zinfandel',\n",
       " 'Hamburger or Sausage',\n",
       " 'Côtes du Rhône, Châteauneuf-du-Pâpe, Shiraz, Petite Syrah or red Zinfandel',\n",
       " 'Chicken',\n",
       " 'California or Australian Chardonnay, Riesling, dry Vouvray, white Burgundy, red Burgundy, Gigondas, Côtes du Rhône, Cabernet Sauvignon, Cabernet Franc, Merlot, red Zinfandel or Valpolicella',\n",
       " 'Feathered Game (guinea fowl, pheasant, squab, etc.)',\n",
       " 'Red Burgundy, Pinot Noir or Rioja',\n",
       " 'Pasta',\n",
       " 'Pinot Grigio, Vernaccia, Barbera, Dolcetto, Chianti, Pinot Noir or Cabernet Franc',\n",
       " 'Pasta with Tomato Sauce',\n",
       " \"Chianti, Morellino di Scansano, Salice Salentino or Montepulciano d'Arbruzzo\",\n",
       " 'Fresh Water or Lighter Fish (trout, sole, etc.)',\n",
       " 'White Bordeaux, Meursault or other good white Burgundy',\n",
       " 'Oily or Heavier Fish (mackerel, swordfish, tuna, etc.)',\n",
       " 'Rich Australian Chardonnay or Semillon, Pinot Gris, Gewürztraminer, Pinot Noir or Beaujolais',\n",
       " 'Shellfish (clams, mussels, scallops, oysters, etc.)',\n",
       " 'Muscadet, Vinho Verde, Verdicchio, Sauvignon Blanc, Albarinho, Chablis or Champagne',\n",
       " 'Lobster',\n",
       " 'Semillon, white Burgundy, Champagne or Sauternes',\n",
       " 'Salmon',\n",
       " 'Rich Chardonnay, white Burgundy, Pinot Gris, Viognier, Beaujolais, Chinon, California or Oregon Cabernet Franc or Pinot Noir',\n",
       " 'Smoked Salmon or other Smoked Fish',\n",
       " 'Champagne or Riesling',\n",
       " 'Soft, Creamy Cheeses with washed rind (brie, camembert, etc.)',\n",
       " 'Beaujolais, North American Pinot Noir or well-aged St.-Emilion',\n",
       " 'Hard, Aged Cheeses (cheddar, aged gouda, manchego, etc.)',\n",
       " 'Cabernet Sauvignon, red Zinfandel, Merlot, Rioja, ruby Port, Fino or Manzanilla Sherry',\n",
       " \"Goat's Cheese\",\n",
       " 'Sauvignon Blanc, Sancerre, Vouvray or white Bordeaux']"
      ]
     },
     "execution_count": 5,
     "metadata": {},
     "output_type": "execute_result"
    }
   ],
   "source": [
    "#ahora vamos a coger los textos de cada titulo , osea los vinos que coinciden con cada comida o titulo\n",
    "all_results_2 = body.select('div>span')[12:]\n",
    "content_clean= [x.text.strip() for x in all_results_2][6:]\n",
    "\n",
    "filter_content = list(filter(lambda x: x !=\"\", content_clean))\n",
    "#¡¡¡no existe una patron!! debería ser comida, lista vino, comida ,lista d evinos...se incumple la linea 3 y 4\n",
    "#que debería ir juntas. Así que vamos a juntarlas \n",
    "#y depues juntar:la lineas de vinos PREVIAS a 3 y 4 +  las lineas 3 y 4 (la 1) + las lineas TRAS 3 y 4 \n",
    "filter_content"
   ]
  },
  {
   "cell_type": "code",
   "execution_count": 6,
   "metadata": {},
   "outputs": [
    {
     "data": {
      "text/plain": [
       "['Cabernet Sauvignon, Merlot, Bordeaux, red Zinfandel, Rioja, Ribera del Duero, Châteauneuf-du-Pâpe, Hermitage, Côte-Rôtie, Australian Shiraz, Super Tuscan, Barbaresco or Barolo',\n",
       " 'Bordeaux (especially Médoc), Rioja, Ribera del Duero, Châteauneuf-du-Pâpe, Barbaresco or Barolo PorkRiesling, Cru Beaujolais, Rioja, Côtes du Rhône or New World ChardonnayRiesling, Cru Beaujolais, Rioja, Côtes du Rhône or New World ChardonnayBBQ',\n",
       " 'Côtes du Rhône, Châteauneuf-du-Pâpe, Shiraz, Petite Syrah or red Zinfandel',\n",
       " 'California or Australian Chardonnay, Riesling, dry Vouvray, white Burgundy, red Burgundy, Gigondas, Côtes du Rhône, Cabernet Sauvignon, Cabernet Franc, Merlot, red Zinfandel or Valpolicella',\n",
       " 'Red Burgundy, Pinot Noir or Rioja',\n",
       " 'Pinot Grigio, Vernaccia, Barbera, Dolcetto, Chianti, Pinot Noir or Cabernet Franc',\n",
       " \"Chianti, Morellino di Scansano, Salice Salentino or Montepulciano d'Arbruzzo\",\n",
       " 'White Bordeaux, Meursault or other good white Burgundy',\n",
       " 'Rich Australian Chardonnay or Semillon, Pinot Gris, Gewürztraminer, Pinot Noir or Beaujolais',\n",
       " 'Muscadet, Vinho Verde, Verdicchio, Sauvignon Blanc, Albarinho, Chablis or Champagne',\n",
       " 'Semillon, white Burgundy, Champagne or Sauternes',\n",
       " 'Rich Chardonnay, white Burgundy, Pinot Gris, Viognier, Beaujolais, Chinon, California or Oregon Cabernet Franc or Pinot Noir',\n",
       " 'Champagne or Riesling',\n",
       " 'Beaujolais, North American Pinot Noir or well-aged St.-Emilion',\n",
       " 'Cabernet Sauvignon, red Zinfandel, Merlot, Rioja, ruby Port, Fino or Manzanilla Sherry',\n",
       " 'Sauvignon Blanc, Sancerre, Vouvray or white Bordeaux']"
      ]
     },
     "execution_count": 6,
     "metadata": {},
     "output_type": "execute_result"
    }
   ],
   "source": [
    "#juntamos lineas 3 y 4 y arreglamos el patron \n",
    "lines_3_4=[filter_content[i]+filter_content[i+1] for i in [3,4]]\n",
    "joined__lines_3_4=[\"\".join(lines_3_4)]\n",
    "#la linea de vinos antes de 3 y 4 :escla linea 1  y la selecionamos tambien \n",
    "line_1=[filter_content[1]]\n",
    "#las lineas de vinos tras 3 y 4 : la linea de 8 en adelante que sean pares\n",
    "content_for_pair=filter_content[8:]\n",
    "lines_pairs_before_8=[content_for_pair[x] for x in range(0,len(content_for_pair),2)]\n",
    "#unimos todas las lineas correspondientes a vinos\n",
    "final_wines=line_1+joined__lines_3_4+lines_pairs_before_8\n",
    "final_wines"
   ]
  },
  {
   "cell_type": "code",
   "execution_count": 7,
   "metadata": {},
   "outputs": [
    {
     "data": {
      "text/plain": [
       "True"
      ]
     },
     "execution_count": 7,
     "metadata": {},
     "output_type": "execute_result"
    }
   ],
   "source": [
    "#vamos a comprobar si el numero de titulos (comidas) coinciden con el numero de contenidos (vinos)\n",
    "#de esta manera sabremos si hemos seleccionado todo \n",
    "len(final_wines)==len(filter_food)"
   ]
  },
  {
   "cell_type": "code",
   "execution_count": 8,
   "metadata": {},
   "outputs": [],
   "source": [
    "#hacemos un zip para conseguir tuplas \n",
    "zip_food_wines=list(zip(filter_food, final_wines))"
   ]
  },
  {
   "cell_type": "code",
   "execution_count": 9,
   "metadata": {},
   "outputs": [],
   "source": [
    "#lo pasamos a dataframe\n",
    "data_pairing_not_explode=pd.DataFrame(zip_food_wines, columns=[\"food\",\"wines\"])"
   ]
  },
  {
   "cell_type": "code",
   "execution_count": 11,
   "metadata": {},
   "outputs": [],
   "source": [
    "#esplotamos la columna wines\n",
    "\n",
    "data_food_wines=pd.concat(   [Series(row['food'], row['wines'].split(','))  for _, row in data_pairing_not_explode.iterrows()]).reset_index()\n"
   ]
  },
  {
   "cell_type": "code",
   "execution_count": 12,
   "metadata": {},
   "outputs": [
    {
     "data": {
      "text/html": [
       "<div>\n",
       "<style scoped>\n",
       "    .dataframe tbody tr th:only-of-type {\n",
       "        vertical-align: middle;\n",
       "    }\n",
       "\n",
       "    .dataframe tbody tr th {\n",
       "        vertical-align: top;\n",
       "    }\n",
       "\n",
       "    .dataframe thead th {\n",
       "        text-align: right;\n",
       "    }\n",
       "</style>\n",
       "<table border=\"1\" class=\"dataframe\">\n",
       "  <thead>\n",
       "    <tr style=\"text-align: right;\">\n",
       "      <th></th>\n",
       "      <th>Wines</th>\n",
       "      <th>Food</th>\n",
       "    </tr>\n",
       "  </thead>\n",
       "  <tbody>\n",
       "    <tr>\n",
       "      <th>0</th>\n",
       "      <td>Cabernet Sauvignon</td>\n",
       "      <td>Beef</td>\n",
       "    </tr>\n",
       "    <tr>\n",
       "      <th>1</th>\n",
       "      <td>Merlot</td>\n",
       "      <td>Beef</td>\n",
       "    </tr>\n",
       "    <tr>\n",
       "      <th>2</th>\n",
       "      <td>Bordeaux</td>\n",
       "      <td>Beef</td>\n",
       "    </tr>\n",
       "    <tr>\n",
       "      <th>3</th>\n",
       "      <td>red Zinfandel</td>\n",
       "      <td>Beef</td>\n",
       "    </tr>\n",
       "    <tr>\n",
       "      <th>4</th>\n",
       "      <td>Rioja</td>\n",
       "      <td>Beef</td>\n",
       "    </tr>\n",
       "    <tr>\n",
       "      <th>5</th>\n",
       "      <td>Ribera del Duero</td>\n",
       "      <td>Beef</td>\n",
       "    </tr>\n",
       "    <tr>\n",
       "      <th>6</th>\n",
       "      <td>Châteauneuf-du-Pâpe</td>\n",
       "      <td>Beef</td>\n",
       "    </tr>\n",
       "    <tr>\n",
       "      <th>7</th>\n",
       "      <td>Hermitage</td>\n",
       "      <td>Beef</td>\n",
       "    </tr>\n",
       "    <tr>\n",
       "      <th>8</th>\n",
       "      <td>Côte-Rôtie</td>\n",
       "      <td>Beef</td>\n",
       "    </tr>\n",
       "    <tr>\n",
       "      <th>9</th>\n",
       "      <td>Australian Shiraz</td>\n",
       "      <td>Beef</td>\n",
       "    </tr>\n",
       "    <tr>\n",
       "      <th>10</th>\n",
       "      <td>Super Tuscan</td>\n",
       "      <td>Beef</td>\n",
       "    </tr>\n",
       "    <tr>\n",
       "      <th>11</th>\n",
       "      <td>Barbaresco or Barolo</td>\n",
       "      <td>Beef</td>\n",
       "    </tr>\n",
       "    <tr>\n",
       "      <th>12</th>\n",
       "      <td>Bordeaux (especially Médoc)</td>\n",
       "      <td>Lamb</td>\n",
       "    </tr>\n",
       "    <tr>\n",
       "      <th>13</th>\n",
       "      <td>Rioja</td>\n",
       "      <td>Lamb</td>\n",
       "    </tr>\n",
       "    <tr>\n",
       "      <th>14</th>\n",
       "      <td>Ribera del Duero</td>\n",
       "      <td>Lamb</td>\n",
       "    </tr>\n",
       "    <tr>\n",
       "      <th>15</th>\n",
       "      <td>Châteauneuf-du-Pâpe</td>\n",
       "      <td>Lamb</td>\n",
       "    </tr>\n",
       "    <tr>\n",
       "      <th>16</th>\n",
       "      <td>Barbaresco or Barolo PorkRiesling</td>\n",
       "      <td>Lamb</td>\n",
       "    </tr>\n",
       "    <tr>\n",
       "      <th>17</th>\n",
       "      <td>Cru Beaujolais</td>\n",
       "      <td>Lamb</td>\n",
       "    </tr>\n",
       "    <tr>\n",
       "      <th>18</th>\n",
       "      <td>Rioja</td>\n",
       "      <td>Lamb</td>\n",
       "    </tr>\n",
       "    <tr>\n",
       "      <th>19</th>\n",
       "      <td>Côtes du Rhône or New World ChardonnayRiesling</td>\n",
       "      <td>Lamb</td>\n",
       "    </tr>\n",
       "  </tbody>\n",
       "</table>\n",
       "</div>"
      ],
      "text/plain": [
       "                                              Wines  Food\n",
       "0                                Cabernet Sauvignon  Beef\n",
       "1                                            Merlot  Beef\n",
       "2                                          Bordeaux  Beef\n",
       "3                                     red Zinfandel  Beef\n",
       "4                                             Rioja  Beef\n",
       "5                                  Ribera del Duero  Beef\n",
       "6                               Châteauneuf-du-Pâpe  Beef\n",
       "7                                         Hermitage  Beef\n",
       "8                                        Côte-Rôtie  Beef\n",
       "9                                 Australian Shiraz  Beef\n",
       "10                                     Super Tuscan  Beef\n",
       "11                             Barbaresco or Barolo  Beef\n",
       "12                      Bordeaux (especially Médoc)  Lamb\n",
       "13                                            Rioja  Lamb\n",
       "14                                 Ribera del Duero  Lamb\n",
       "15                              Châteauneuf-du-Pâpe  Lamb\n",
       "16                Barbaresco or Barolo PorkRiesling  Lamb\n",
       "17                                   Cru Beaujolais  Lamb\n",
       "18                                            Rioja  Lamb\n",
       "19   Côtes du Rhône or New World ChardonnayRiesling  Lamb"
      ]
     },
     "execution_count": 12,
     "metadata": {},
     "output_type": "execute_result"
    }
   ],
   "source": [
    "#renombramos las columnas \n",
    "data_food_wines.columns=['Wines','Food']\n",
    "data_food_wines.head(20)"
   ]
  },
  {
   "cell_type": "code",
   "execution_count": 13,
   "metadata": {},
   "outputs": [],
   "source": [
    "#guardamos limpio..... \n",
    "data_food_wines.to_csv(\"pairing.csv\")"
   ]
  }
 ],
 "metadata": {
  "kernelspec": {
   "display_name": "Python 3",
   "language": "python",
   "name": "python3"
  },
  "language_info": {
   "codemirror_mode": {
    "name": "ipython",
    "version": 3
   },
   "file_extension": ".py",
   "mimetype": "text/x-python",
   "name": "python",
   "nbconvert_exporter": "python",
   "pygments_lexer": "ipython3",
   "version": "3.6.9"
  }
 },
 "nbformat": 4,
 "nbformat_minor": 4
}
